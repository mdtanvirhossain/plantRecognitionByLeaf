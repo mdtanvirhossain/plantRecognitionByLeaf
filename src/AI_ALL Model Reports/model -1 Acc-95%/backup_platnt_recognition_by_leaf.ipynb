{
  "nbformat": 4,
  "nbformat_minor": 0,
  "metadata": {
    "colab": {
      "name": "backup_platnt_recognition_by_leaf.ipynb",
      "version": "0.3.2",
      "provenance": []
    },
    "kernelspec": {
      "name": "python3",
      "display_name": "Python 3"
    },
    "accelerator": "GPU"
  },
  "cells": [
    {
      "metadata": {
        "id": "IfmAQBLU4rls",
        "colab_type": "code",
        "colab": {}
      },
      "cell_type": "code",
      "source": [
        "#from tensorflow.python.client import device_lib\n",
        "#device_lib.list_local_devices()"
      ],
      "execution_count": 0,
      "outputs": []
    },
    {
      "metadata": {
        "id": "3ejx_qEqVlzx",
        "colab_type": "code",
        "colab": {}
      },
      "cell_type": "code",
      "source": [
        "#!wget https://github.com/mdtanvirhossain/plantRecognitionByLeaf/archive/master.zip"
      ],
      "execution_count": 0,
      "outputs": []
    },
    {
      "metadata": {
        "id": "szUyQ6xrWMD1",
        "colab_type": "code",
        "colab": {}
      },
      "cell_type": "code",
      "source": [
        "#!unzip master.zip"
      ],
      "execution_count": 0,
      "outputs": []
    },
    {
      "metadata": {
        "id": "xgXcyLuKAM8C",
        "colab_type": "code",
        "colab": {}
      },
      "cell_type": "code",
      "source": [
        "#ls"
      ],
      "execution_count": 0,
      "outputs": []
    },
    {
      "metadata": {
        "id": "Co7QQGIiA-j9",
        "colab_type": "code",
        "colab": {}
      },
      "cell_type": "code",
      "source": [
        "import os\n",
        "import matplotlib.pyplot as plt\n",
        "%matplotlib inline\n",
        "import numpy as np\n",
        "from sklearn.metrics import  confusion_matrix\n",
        "\n",
        "from __future__ import print_function\n",
        "\n",
        "import keras\n",
        "from keras import backend as K\n",
        "from IPython.display import SVG\n",
        "from keras.optimizers import Adam\n",
        "from keras.utils import plot_model\n",
        "from keras.models import Model, Sequential\n",
        "from keras.callbacks import ReduceLROnPlateau\n",
        "from keras.utils.vis_utils import model_to_dot\n",
        "from keras.utils.generic_utils import get_custom_objects\n",
        "from keras.preprocessing.image import ImageDataGenerator\n",
        "from keras.layers import Input, Conv2D, Dense, Flatten, MaxPool2D\n",
        "from keras.layers import Activation, Add, BatchNormalization, Dropout"
      ],
      "execution_count": 0,
      "outputs": []
    },
    {
      "metadata": {
        "id": "t7SR2A7cCKz1",
        "colab_type": "code",
        "outputId": "117eb50a-be58-4874-8234-487f01ec2c87",
        "colab": {
          "base_uri": "https://localhost:8080/",
          "height": 586
        }
      },
      "cell_type": "code",
      "source": [
        "model = Sequential()\n",
        " \n",
        "model.add(Conv2D(activation ='relu', input_shape = (64,64,3), filters=64, kernel_size=(3, 3), padding=\"SAME\", strides=(1, 1)))\n",
        " \n",
        "#model.add(Conv2D(activation ='relu',filters=32, kernel_size=(3, 3), padding=\"SAME\", strides=(1,1)))\n",
        "#model.add(MaxPool2D(pool_size=(2, 2), strides=(2, 2)))\n",
        " \n",
        "model.add(Conv2D(activation ='relu', filters=64, kernel_size=(3, 3), padding=\"SAME\", strides=(1, 1)))\n",
        "model.add(MaxPool2D(pool_size=(2, 2), strides=(2, 2)))\n",
        "\n",
        "model.add(Conv2D(activation ='relu',filters=128, kernel_size=(3, 3), padding=\"SAME\", strides=(1,1)))\n",
        "model.add(MaxPool2D(pool_size=(2, 2), strides=(2, 2)))\n",
        " \n",
        "# model.add(Dropout(0.25))\n",
        "\n",
        "model.add(BatchNormalization())\n",
        " \n",
        "model.add(Conv2D(activation ='relu',filters=256, kernel_size=(3, 3), padding=\"SAME\", strides=(1,1)))\n",
        "model.add(MaxPool2D(pool_size=(2, 2), strides=(2, 2)))\n",
        "\n",
        "#model.add(Conv2D(activation ='relu',filters=512, kernel_size=(3, 3), padding=\"SAME\", strides=(1,1)))\n",
        "#model.add(MaxPool2D(pool_size=(2, 2), strides=(2, 2)))\n",
        " \n",
        "\n",
        "model.add(Flatten())\n",
        "model.add(Dense(512, activation='relu'))\n",
        "model.add(Dropout(0.5))\n",
        "model.add(Dense(units = 10, activation='softmax'))\n",
        "\n",
        "#show model summary\n",
        "model.summary()"
      ],
      "execution_count": 27,
      "outputs": [
        {
          "output_type": "stream",
          "text": [
            "_________________________________________________________________\n",
            "Layer (type)                 Output Shape              Param #   \n",
            "=================================================================\n",
            "conv2d_15 (Conv2D)           (None, 64, 64, 64)        1792      \n",
            "_________________________________________________________________\n",
            "conv2d_16 (Conv2D)           (None, 64, 64, 64)        36928     \n",
            "_________________________________________________________________\n",
            "max_pooling2d_12 (MaxPooling (None, 32, 32, 64)        0         \n",
            "_________________________________________________________________\n",
            "conv2d_17 (Conv2D)           (None, 32, 32, 128)       73856     \n",
            "_________________________________________________________________\n",
            "max_pooling2d_13 (MaxPooling (None, 16, 16, 128)       0         \n",
            "_________________________________________________________________\n",
            "batch_normalization_4 (Batch (None, 16, 16, 128)       512       \n",
            "_________________________________________________________________\n",
            "conv2d_18 (Conv2D)           (None, 16, 16, 256)       295168    \n",
            "_________________________________________________________________\n",
            "max_pooling2d_14 (MaxPooling (None, 8, 8, 256)         0         \n",
            "_________________________________________________________________\n",
            "flatten_4 (Flatten)          (None, 16384)             0         \n",
            "_________________________________________________________________\n",
            "dense_7 (Dense)              (None, 512)               8389120   \n",
            "_________________________________________________________________\n",
            "dropout_4 (Dropout)          (None, 512)               0         \n",
            "_________________________________________________________________\n",
            "dense_8 (Dense)              (None, 10)                5130      \n",
            "=================================================================\n",
            "Total params: 8,802,506\n",
            "Trainable params: 8,802,250\n",
            "Non-trainable params: 256\n",
            "_________________________________________________________________\n"
          ],
          "name": "stdout"
        }
      ]
    },
    {
      "metadata": {
        "id": "GYAoSjHcCUC8",
        "colab_type": "code",
        "colab": {}
      },
      "cell_type": "code",
      "source": [
        "optimizer = Adam(lr=0.001)\n",
        "model.compile(loss='categorical_crossentropy', optimizer = optimizer, metrics=[\"accuracy\"])"
      ],
      "execution_count": 0,
      "outputs": []
    },
    {
      "metadata": {
        "id": "7CQMXiYOCaK7",
        "colab_type": "code",
        "colab": {}
      },
      "cell_type": "code",
      "source": [
        "train_datagen = ImageDataGenerator(\n",
        "                                    rotation_range=40,\n",
        "                                    width_shift_range=0.2,\n",
        "                                    height_shift_range=0.2,\n",
        "                                    rescale=1./255,\n",
        "                                    shear_range=0.2,\n",
        "                                    zoom_range=0.2,\n",
        "                                    horizontal_flip=True,\n",
        "                                    fill_mode='nearest')\n",
        "\n",
        "\n",
        "test_datagen = ImageDataGenerator(rotation_range=40,\n",
        "                                    width_shift_range=0.2,\n",
        "                                    height_shift_range=0.2,\n",
        "                                    rescale=1./255,\n",
        "                                    shear_range=0.2,\n",
        "                                    zoom_range=0.2,\n",
        "                                    horizontal_flip=True,\n",
        "                                    fill_mode='nearest')"
      ],
      "execution_count": 0,
      "outputs": []
    },
    {
      "metadata": {
        "id": "q3U4wG0GCeN6",
        "colab_type": "code",
        "outputId": "07db4e1e-cfa3-48d0-ed6c-0683453962e8",
        "colab": {
          "base_uri": "https://localhost:8080/",
          "height": 54
        }
      },
      "cell_type": "code",
      "source": [
        "train_generator = train_datagen.flow_from_directory(\n",
        "                                                    'plantRecognitionByLeaf-master/dataset/dataset_original/train_data',\n",
        "                                                    target_size=(64, 64),\n",
        "                                                    batch_size=30,\n",
        "                                                    color_mode='rgb',\n",
        "                                                    class_mode='categorical')\n",
        "\n",
        "validation_generator = test_datagen.flow_from_directory(\n",
        "                                                    'plantRecognitionByLeaf-master/dataset/dataset_original/test_data',\n",
        "                                                    target_size=(64, 64),\n",
        "                                                    batch_size=30,\n",
        "                                                    color_mode='rgb',\n",
        "                                                    class_mode='categorical')"
      ],
      "execution_count": 30,
      "outputs": [
        {
          "output_type": "stream",
          "text": [
            "Found 700 images belonging to 10 classes.\n",
            "Found 300 images belonging to 10 classes.\n"
          ],
          "name": "stdout"
        }
      ]
    },
    {
      "metadata": {
        "id": "ITZpjyRVCrnC",
        "colab_type": "code",
        "colab": {}
      },
      "cell_type": "code",
      "source": [
        "learning_rate_reduction = ReduceLROnPlateau(monitor='val_acc', \n",
        "                                            patience=3, \n",
        "                                            verbose=1, \n",
        "                                            factor=0.5, \n",
        "                                            min_lr=0.000001)\n"
      ],
      "execution_count": 0,
      "outputs": []
    },
    {
      "metadata": {
        "id": "v-ftpno7mv0F",
        "colab_type": "code",
        "colab": {}
      },
      "cell_type": "code",
      "source": [
        "#from PIL import ImageFile\n",
        "#ImageFile.LOAD_TRUNCATED_IMAGES = True"
      ],
      "execution_count": 0,
      "outputs": []
    },
    {
      "metadata": {
        "id": "or8i24x0DQhX",
        "colab_type": "code",
        "outputId": "5f6164c1-aff2-4d68-8356-6d424e43801d",
        "colab": {
          "base_uri": "https://localhost:8080/",
          "height": 2223
        }
      },
      "cell_type": "code",
      "source": [
        "history = model.fit_generator(\n",
        "                    train_generator,\n",
        "                    steps_per_epoch=700 /30,\n",
        "                    epochs=50,\n",
        "                    validation_data=validation_generator,\n",
        "                    validation_steps=50,\n",
        "                    verbose=1,\n",
        "                    callbacks=[learning_rate_reduction])"
      ],
      "execution_count": 33,
      "outputs": [
        {
          "output_type": "stream",
          "text": [
            "WARNING:tensorflow:From /usr/local/lib/python3.6/dist-packages/tensorflow/python/ops/math_ops.py:3066: to_int32 (from tensorflow.python.ops.math_ops) is deprecated and will be removed in a future version.\n",
            "Instructions for updating:\n",
            "Use tf.cast instead.\n",
            "Epoch 1/50\n",
            "24/23 [==============================] - 349s 15s/step - loss: 2.9152 - acc: 0.1416 - val_loss: 3.8220 - val_acc: 0.1000\n",
            "Epoch 2/50\n",
            "24/23 [==============================] - 301s 13s/step - loss: 1.9929 - acc: 0.2722 - val_loss: 7.1753 - val_acc: 0.1407\n",
            "Epoch 3/50\n",
            "24/23 [==============================] - 302s 13s/step - loss: 1.7033 - acc: 0.3874 - val_loss: 4.5385 - val_acc: 0.1640\n",
            "Epoch 4/50\n",
            "24/23 [==============================] - 300s 12s/step - loss: 1.2931 - acc: 0.5292 - val_loss: 4.9623 - val_acc: 0.2047\n",
            "Epoch 5/50\n",
            "24/23 [==============================] - 302s 13s/step - loss: 1.1114 - acc: 0.5835 - val_loss: 6.0172 - val_acc: 0.1587\n",
            "Epoch 6/50\n",
            "24/23 [==============================] - 300s 13s/step - loss: 0.9429 - acc: 0.6652 - val_loss: 2.2286 - val_acc: 0.4113\n",
            "Epoch 7/50\n",
            "24/23 [==============================] - 301s 13s/step - loss: 0.9140 - acc: 0.6958 - val_loss: 1.1132 - val_acc: 0.6133\n",
            "Epoch 8/50\n",
            "24/23 [==============================] - 301s 13s/step - loss: 0.8682 - acc: 0.6958 - val_loss: 10.4679 - val_acc: 0.1800\n",
            "Epoch 9/50\n",
            "24/23 [==============================] - 298s 12s/step - loss: 0.8965 - acc: 0.6900 - val_loss: 0.9533 - val_acc: 0.6373\n",
            "Epoch 10/50\n",
            "24/23 [==============================] - 301s 13s/step - loss: 0.7507 - acc: 0.7263 - val_loss: 1.4097 - val_acc: 0.5313\n",
            "Epoch 11/50\n",
            "24/23 [==============================] - 300s 12s/step - loss: 0.6094 - acc: 0.7903 - val_loss: 1.2735 - val_acc: 0.5833\n",
            "Epoch 12/50\n",
            "24/23 [==============================] - 300s 12s/step - loss: 0.7337 - acc: 0.7444 - val_loss: 0.9193 - val_acc: 0.6567\n",
            "Epoch 13/50\n",
            "24/23 [==============================] - 299s 12s/step - loss: 0.6021 - acc: 0.7985 - val_loss: 1.1788 - val_acc: 0.6493\n",
            "Epoch 14/50\n",
            "24/23 [==============================] - 300s 13s/step - loss: 0.4807 - acc: 0.8334 - val_loss: 1.4264 - val_acc: 0.5273\n",
            "Epoch 15/50\n",
            "24/23 [==============================] - 298s 12s/step - loss: 0.5152 - acc: 0.8265 - val_loss: 2.2784 - val_acc: 0.4727\n",
            "\n",
            "Epoch 00015: ReduceLROnPlateau reducing learning rate to 0.0005000000237487257.\n",
            "Epoch 16/50\n",
            "24/23 [==============================] - 303s 13s/step - loss: 0.4307 - acc: 0.8516 - val_loss: 0.4275 - val_acc: 0.8393\n",
            "Epoch 17/50\n",
            "24/23 [==============================] - 297s 12s/step - loss: 0.3589 - acc: 0.8958 - val_loss: 0.7068 - val_acc: 0.7620\n",
            "Epoch 18/50\n",
            "24/23 [==============================] - 300s 13s/step - loss: 0.3390 - acc: 0.8793 - val_loss: 0.4765 - val_acc: 0.8173\n",
            "Epoch 19/50\n",
            "24/23 [==============================] - 300s 12s/step - loss: 0.3298 - acc: 0.8809 - val_loss: 0.4557 - val_acc: 0.8133\n",
            "\n",
            "Epoch 00019: ReduceLROnPlateau reducing learning rate to 0.0002500000118743628.\n",
            "Epoch 20/50\n",
            "24/23 [==============================] - 297s 12s/step - loss: 0.3047 - acc: 0.9056 - val_loss: 0.8808 - val_acc: 0.7420\n",
            "Epoch 21/50\n",
            "24/23 [==============================] - 301s 13s/step - loss: 0.3171 - acc: 0.8778 - val_loss: 0.9826 - val_acc: 0.7340\n",
            "Epoch 22/50\n",
            "24/23 [==============================] - 299s 12s/step - loss: 0.2535 - acc: 0.9180 - val_loss: 0.3788 - val_acc: 0.8620\n",
            "Epoch 23/50\n",
            "24/23 [==============================] - 298s 12s/step - loss: 0.2569 - acc: 0.9180 - val_loss: 0.1886 - val_acc: 0.9320\n",
            "Epoch 24/50\n",
            "24/23 [==============================] - 300s 12s/step - loss: 0.2709 - acc: 0.9072 - val_loss: 0.2259 - val_acc: 0.9227\n",
            "Epoch 25/50\n",
            "24/23 [==============================] - 300s 12s/step - loss: 0.2199 - acc: 0.9348 - val_loss: 0.1608 - val_acc: 0.9500\n",
            "Epoch 26/50\n",
            "24/23 [==============================] - 298s 12s/step - loss: 0.1965 - acc: 0.9333 - val_loss: 0.2674 - val_acc: 0.9113\n",
            "Epoch 27/50\n",
            "24/23 [==============================] - 299s 12s/step - loss: 0.1828 - acc: 0.9403 - val_loss: 0.2005 - val_acc: 0.9247\n",
            "Epoch 28/50\n",
            "24/23 [==============================] - 299s 12s/step - loss: 0.1910 - acc: 0.9319 - val_loss: 0.2051 - val_acc: 0.9347\n",
            "\n",
            "Epoch 00028: ReduceLROnPlateau reducing learning rate to 0.0001250000059371814.\n",
            "Epoch 29/50\n",
            "24/23 [==============================] - 300s 12s/step - loss: 0.1741 - acc: 0.9362 - val_loss: 0.1325 - val_acc: 0.9567\n",
            "Epoch 30/50\n",
            "24/23 [==============================] - 299s 12s/step - loss: 0.1796 - acc: 0.9348 - val_loss: 0.1511 - val_acc: 0.9520\n",
            "Epoch 31/50\n",
            "24/23 [==============================] - 299s 12s/step - loss: 0.1360 - acc: 0.9514 - val_loss: 0.1596 - val_acc: 0.9380\n",
            "Epoch 32/50\n",
            "24/23 [==============================] - 302s 13s/step - loss: 0.1880 - acc: 0.9374 - val_loss: 0.1532 - val_acc: 0.9467\n",
            "\n",
            "Epoch 00032: ReduceLROnPlateau reducing learning rate to 6.25000029685907e-05.\n",
            "Epoch 33/50\n",
            "24/23 [==============================] - 298s 12s/step - loss: 0.1770 - acc: 0.9321 - val_loss: 0.1180 - val_acc: 0.9653\n",
            "Epoch 34/50\n",
            "24/23 [==============================] - 300s 13s/step - loss: 0.1405 - acc: 0.9528 - val_loss: 0.1250 - val_acc: 0.9613\n",
            "Epoch 35/50\n",
            "24/23 [==============================] - 298s 12s/step - loss: 0.1426 - acc: 0.9583 - val_loss: 0.1181 - val_acc: 0.9587\n",
            "Epoch 36/50\n",
            "24/23 [==============================] - 300s 13s/step - loss: 0.1472 - acc: 0.9569 - val_loss: 0.1214 - val_acc: 0.9593\n",
            "\n",
            "Epoch 00036: ReduceLROnPlateau reducing learning rate to 3.125000148429535e-05.\n",
            "Epoch 37/50\n",
            "24/23 [==============================] - 298s 12s/step - loss: 0.1412 - acc: 0.9584 - val_loss: 0.1100 - val_acc: 0.9620\n",
            "Epoch 38/50\n",
            "24/23 [==============================] - 298s 12s/step - loss: 0.1398 - acc: 0.9584 - val_loss: 0.1118 - val_acc: 0.9627\n",
            "Epoch 39/50\n",
            "24/23 [==============================] - 299s 12s/step - loss: 0.1516 - acc: 0.9501 - val_loss: 0.1009 - val_acc: 0.9700\n",
            "Epoch 40/50\n",
            "24/23 [==============================] - 299s 12s/step - loss: 0.1293 - acc: 0.9625 - val_loss: 0.1140 - val_acc: 0.9620\n",
            "Epoch 41/50\n",
            "24/23 [==============================] - 303s 13s/step - loss: 0.1331 - acc: 0.9513 - val_loss: 0.1172 - val_acc: 0.9573\n",
            "Epoch 42/50\n",
            "24/23 [==============================] - 304s 13s/step - loss: 0.1428 - acc: 0.9501 - val_loss: 0.1267 - val_acc: 0.9513\n",
            "\n",
            "Epoch 00042: ReduceLROnPlateau reducing learning rate to 1.5625000742147677e-05.\n",
            "Epoch 43/50\n",
            "24/23 [==============================] - 304s 13s/step - loss: 0.1105 - acc: 0.9680 - val_loss: 0.0951 - val_acc: 0.9667\n",
            "Epoch 44/50\n",
            "24/23 [==============================] - 304s 13s/step - loss: 0.1373 - acc: 0.9541 - val_loss: 0.1117 - val_acc: 0.9627\n",
            "Epoch 45/50\n",
            "24/23 [==============================] - 305s 13s/step - loss: 0.1260 - acc: 0.9583 - val_loss: 0.0993 - val_acc: 0.9667\n",
            "\n",
            "Epoch 00045: ReduceLROnPlateau reducing learning rate to 7.812500371073838e-06.\n",
            "Epoch 46/50\n",
            "24/23 [==============================] - 303s 13s/step - loss: 0.1439 - acc: 0.9487 - val_loss: 0.1095 - val_acc: 0.9667\n",
            "Epoch 47/50\n",
            "24/23 [==============================] - 304s 13s/step - loss: 0.1318 - acc: 0.9597 - val_loss: 0.1109 - val_acc: 0.9620\n",
            "Epoch 48/50\n",
            "24/23 [==============================] - 304s 13s/step - loss: 0.1606 - acc: 0.9417 - val_loss: 0.1097 - val_acc: 0.9627\n",
            "\n",
            "Epoch 00048: ReduceLROnPlateau reducing learning rate to 3.906250185536919e-06.\n",
            "Epoch 49/50\n",
            "24/23 [==============================] - 306s 13s/step - loss: 0.1337 - acc: 0.9583 - val_loss: 0.1137 - val_acc: 0.9607\n",
            "Epoch 50/50\n",
            "24/23 [==============================] - 303s 13s/step - loss: 0.1227 - acc: 0.9598 - val_loss: 0.1046 - val_acc: 0.9587\n"
          ],
          "name": "stdout"
        }
      ]
    },
    {
      "metadata": {
        "id": "M2cBzPy0EM11",
        "colab_type": "code",
        "outputId": "d716276d-aa1a-4bc2-88d3-553e88a549bf",
        "colab": {
          "base_uri": "https://localhost:8080/",
          "height": 265
        }
      },
      "cell_type": "code",
      "source": [
        "#Plot the loss and accuracy curves for training and validation \n",
        "fig, ax = plt.subplots(2,1)\n",
        "ax[0].plot(history.history['loss'], color='b', label=\"Training loss\")\n",
        "ax[0].plot(history.history['val_loss'], color='r', label=\"validation loss\",axes =ax[0])\n",
        "legend = ax[0].legend(loc='best', shadow=True)\n",
        "\n",
        "ax[1].plot(history.history['acc'], color='b', label=\"Training accuracy\")\n",
        "ax[1].plot(history.history['val_acc'], color='r',label=\"Validation accuracy\")\n",
        "legend = ax[1].legend(loc='best', shadow=True)"
      ],
      "execution_count": 34,
      "outputs": [
        {
          "output_type": "display_data",
          "data": {
            "image/png": "[encoded data removed]",
            "text/plain": [
              "<Figure size 432x288 with 2 Axes>"
            ]
          },
          "metadata": {
            "tags": []
          }
        }
      ]
    },
    {
      "metadata": {
        "id": "y3fxQDlLUs3J",
        "colab_type": "code",
        "outputId": "bd93c1af-9794-4d05-e0fa-29fc663f44eb",
        "colab": {
          "base_uri": "https://localhost:8080/",
          "height": 54
        }
      },
      "cell_type": "code",
      "source": [
        "#Unnecessary\n",
        "\n",
        "from keras.preprocessing import image\n",
        "\n",
        "test = image.load_img('plantRecognitionByLeaf-master/dataset/dataset_original/test_data/AATA/aata_ (5).jpg',\n",
        "                      target_size=(64, 64))\n",
        "test = image.img_to_array(test)\n",
        "test = np.expand_dims(test, axis=0)\n",
        "\n",
        "print(model.predict(test))\n",
        "print(train_generator.class_indices)"
      ],
      "execution_count": 36,
      "outputs": [
        {
          "output_type": "stream",
          "text": [
            "[[0. 0. 0. 0. 0. 0. 1. 0. 0. 0.]]\n",
            "{'AATA': 0, 'Bott brikha': 1, 'Kath badam': 2, 'Kathal': 3, 'Kull': 4, 'Lebu': 5, 'Mango': 6, 'Mehguni': 7, 'Noyon tara': 8, 'Ronggan': 9}\n"
          ],
          "name": "stdout"
        }
      ]
    },
    {
      "metadata": {
        "id": "Up_l3i19BFkd",
        "colab_type": "code",
        "colab": {}
      },
      "cell_type": "code",
      "source": [
        "ls"
      ],
      "execution_count": 0,
      "outputs": []
    }
  ]
}