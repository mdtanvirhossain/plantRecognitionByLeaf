{
  "nbformat": 4,
  "nbformat_minor": 0,
  "metadata": {
    "colab": {
      "name": "platnt_recognition_by_leaf.ipynb",
      "version": "0.3.2",
      "provenance": []
    },
    "kernelspec": {
      "name": "python3",
      "display_name": "Python 3"
    },
    "accelerator": "GPU"
  },
  "cells": [
    {
      "metadata": {
        "id": "IfmAQBLU4rls",
        "colab_type": "code",
        "colab": {}
      },
      "cell_type": "code",
      "source": [
        "#from tensorflow.python.client import device_lib\n",
        "#device_lib.list_local_devices()"
      ],
      "execution_count": 0,
      "outputs": []
    },
    {
      "metadata": {
        "id": "3ejx_qEqVlzx",
        "colab_type": "code",
        "colab": {}
      },
      "cell_type": "code",
      "source": [
        "#!wget https://github.com/mdtanvirhossain/plantRecognitionByLeaf/archive/master.zip"
      ],
      "execution_count": 0,
      "outputs": []
    },
    {
      "metadata": {
        "id": "szUyQ6xrWMD1",
        "colab_type": "code",
        "colab": {}
      },
      "cell_type": "code",
      "source": [
        "#!unzip master.zip"
      ],
      "execution_count": 0,
      "outputs": []
    },
    {
      "metadata": {
        "id": "xgXcyLuKAM8C",
        "colab_type": "code",
        "colab": {}
      },
      "cell_type": "code",
      "source": [
        "#ls"
      ],
      "execution_count": 0,
      "outputs": []
    },
    {
      "metadata": {
        "id": "Co7QQGIiA-j9",
        "colab_type": "code",
        "colab": {}
      },
      "cell_type": "code",
      "source": [
        "import os\n",
        "import matplotlib.pyplot as plt\n",
        "%matplotlib inline\n",
        "import numpy as np\n",
        "from sklearn.metrics import  confusion_matrix\n",
        "\n",
        "from __future__ import print_function\n",
        "\n",
        "import keras\n",
        "from keras import backend as K\n",
        "from IPython.display import SVG\n",
        "from keras.optimizers import Adam\n",
        "from keras.utils import plot_model\n",
        "from keras.models import Model, Sequential\n",
        "from keras.callbacks import ReduceLROnPlateau\n",
        "from keras.utils.vis_utils import model_to_dot\n",
        "from keras.utils.generic_utils import get_custom_objects\n",
        "from keras.preprocessing.image import ImageDataGenerator\n",
        "from keras.layers import Input, Conv2D, Dense, Flatten, MaxPool2D\n",
        "from keras.layers import Activation, Add, BatchNormalization, Dropout"
      ],
      "execution_count": 0,
      "outputs": []
    },
    {
      "metadata": {
        "id": "t7SR2A7cCKz1",
        "colab_type": "code",
        "outputId": "2e85c80d-9e8d-40b3-f7c5-bd0305dc581e",
        "colab": {
          "base_uri": "https://localhost:8080/",
          "height": 612
        }
      },
      "cell_type": "code",
      "source": [
        "model = Sequential()\n",
        " \n",
        "model.add(Conv2D(activation ='relu', input_shape = (64,64,3), filters=56, kernel_size=(3, 3), padding=\"SAME\", strides=(1, 1)))\n",
        " \n",
        "#model.add(Conv2D(activation ='relu',filters=32, kernel_size=(3, 3), padding=\"SAME\", strides=(1,1)))\n",
        "#model.add(MaxPool2D(pool_size=(2, 2), strides=(2, 2)))\n",
        " \n",
        "model.add(Conv2D(activation ='relu', filters=56, kernel_size=(3, 3), padding=\"SAME\", strides=(1, 1)))\n",
        "model.add(MaxPool2D(pool_size=(2, 2), strides=(2, 2)))\n",
        "\n",
        "model.add(Conv2D(activation ='relu',filters=112, kernel_size=(3, 3), padding=\"SAME\", strides=(1,1)))\n",
        "model.add(MaxPool2D(pool_size=(2, 2), strides=(2, 2)))\n",
        " \n",
        "# model.add(Dropout(0.25))\n",
        "\n",
        "model.add(BatchNormalization())\n",
        " \n",
        "model.add(Conv2D(activation ='relu',filters=224, kernel_size=(3, 3), padding=\"SAME\", strides=(1,1)))\n",
        "model.add(MaxPool2D(pool_size=(2, 2), strides=(2, 2)))\n",
        "\n",
        "model.add(Conv2D(activation ='relu',filters=448, kernel_size=(3, 3), padding=\"SAME\", strides=(1,1)))\n",
        "model.add(MaxPool2D(pool_size=(2, 2), strides=(2, 2)))\n",
        " \n",
        "\n",
        "model.add(Flatten())\n",
        "model.add(Dense(448, activation='relu'))\n",
        "model.add(Dropout(0.5))\n",
        "model.add(Dense(units = 10, activation='softmax'))\n",
        "\n",
        "#show model summary\n",
        "model.summary()"
      ],
      "execution_count": 47,
      "outputs": [
        {
          "output_type": "stream",
          "text": [
            "_________________________________________________________________\n",
            "Layer (type)                 Output Shape              Param #   \n",
            "=================================================================\n",
            "conv2d_29 (Conv2D)           (None, 64, 64, 56)        1568      \n",
            "_________________________________________________________________\n",
            "conv2d_30 (Conv2D)           (None, 64, 64, 56)        28280     \n",
            "_________________________________________________________________\n",
            "max_pooling2d_23 (MaxPooling (None, 32, 32, 56)        0         \n",
            "_________________________________________________________________\n",
            "conv2d_31 (Conv2D)           (None, 32, 32, 112)       56560     \n",
            "_________________________________________________________________\n",
            "max_pooling2d_24 (MaxPooling (None, 16, 16, 112)       0         \n",
            "_________________________________________________________________\n",
            "batch_normalization_7 (Batch (None, 16, 16, 112)       448       \n",
            "_________________________________________________________________\n",
            "conv2d_32 (Conv2D)           (None, 16, 16, 224)       226016    \n",
            "_________________________________________________________________\n",
            "max_pooling2d_25 (MaxPooling (None, 8, 8, 224)         0         \n",
            "_________________________________________________________________\n",
            "conv2d_33 (Conv2D)           (None, 8, 8, 448)         903616    \n",
            "_________________________________________________________________\n",
            "max_pooling2d_26 (MaxPooling (None, 4, 4, 448)         0         \n",
            "_________________________________________________________________\n",
            "flatten_7 (Flatten)          (None, 7168)              0         \n",
            "_________________________________________________________________\n",
            "dense_13 (Dense)             (None, 448)               3211712   \n",
            "_________________________________________________________________\n",
            "dropout_7 (Dropout)          (None, 448)               0         \n",
            "_________________________________________________________________\n",
            "dense_14 (Dense)             (None, 10)                4490      \n",
            "=================================================================\n",
            "Total params: 4,432,690\n",
            "Trainable params: 4,432,466\n",
            "Non-trainable params: 224\n",
            "_________________________________________________________________\n"
          ],
          "name": "stdout"
        }
      ]
    },
    {
      "metadata": {
        "id": "GYAoSjHcCUC8",
        "colab_type": "code",
        "colab": {}
      },
      "cell_type": "code",
      "source": [
        "optimizer = Adam(lr=0.001)\n",
        "model.compile(loss='categorical_crossentropy', optimizer = optimizer, metrics=[\"accuracy\"])"
      ],
      "execution_count": 0,
      "outputs": []
    },
    {
      "metadata": {
        "id": "7CQMXiYOCaK7",
        "colab_type": "code",
        "colab": {}
      },
      "cell_type": "code",
      "source": [
        "train_datagen = ImageDataGenerator(\n",
        "                                    rotation_range=40,\n",
        "                                    width_shift_range=0.2,\n",
        "                                    height_shift_range=0.2,\n",
        "                                    rescale=1./255,\n",
        "                                    shear_range=0.2,\n",
        "                                    zoom_range=0.2,\n",
        "                                    horizontal_flip=True,\n",
        "                                    fill_mode='nearest')\n",
        "\n",
        "\n",
        "test_datagen = ImageDataGenerator(rotation_range=40,\n",
        "                                    width_shift_range=0.2,\n",
        "                                    height_shift_range=0.2,\n",
        "                                    rescale=1./255,\n",
        "                                    shear_range=0.2,\n",
        "                                    zoom_range=0.2,\n",
        "                                    horizontal_flip=True,\n",
        "                                    fill_mode='nearest')"
      ],
      "execution_count": 0,
      "outputs": []
    },
    {
      "metadata": {
        "id": "q3U4wG0GCeN6",
        "colab_type": "code",
        "outputId": "332d5ba7-09ae-4fe1-e788-93b8d835b9a3",
        "colab": {
          "base_uri": "https://localhost:8080/",
          "height": 51
        }
      },
      "cell_type": "code",
      "source": [
        "train_generator = train_datagen.flow_from_directory(\n",
        "                                                    'plantRecognitionByLeaf-master/dataset/dataset_original/train_data',\n",
        "                                                    target_size=(64, 64),\n",
        "                                                    batch_size=30,\n",
        "                                                    color_mode='rgb',\n",
        "                                                    class_mode='categorical')\n",
        "\n",
        "validation_generator = test_datagen.flow_from_directory(\n",
        "                                                    'plantRecognitionByLeaf-master/dataset/dataset_original/test_data',\n",
        "                                                    target_size=(64, 64),\n",
        "                                                    batch_size=30,\n",
        "                                                    color_mode='rgb',\n",
        "                                                    class_mode='categorical')"
      ],
      "execution_count": 50,
      "outputs": [
        {
          "output_type": "stream",
          "text": [
            "Found 700 images belonging to 10 classes.\n",
            "Found 300 images belonging to 10 classes.\n"
          ],
          "name": "stdout"
        }
      ]
    },
    {
      "metadata": {
        "id": "ITZpjyRVCrnC",
        "colab_type": "code",
        "colab": {}
      },
      "cell_type": "code",
      "source": [
        "learning_rate_reduction = ReduceLROnPlateau(monitor='val_acc', \n",
        "                                            patience=3, \n",
        "                                            verbose=1, \n",
        "                                            factor=0.5, \n",
        "                                            min_lr=0.000001)\n"
      ],
      "execution_count": 0,
      "outputs": []
    },
    {
      "metadata": {
        "id": "v-ftpno7mv0F",
        "colab_type": "code",
        "colab": {}
      },
      "cell_type": "code",
      "source": [
        "#from PIL import ImageFile\n",
        "#ImageFile.LOAD_TRUNCATED_IMAGES = True"
      ],
      "execution_count": 0,
      "outputs": []
    },
    {
      "metadata": {
        "id": "or8i24x0DQhX",
        "colab_type": "code",
        "outputId": "888fcffc-1e1d-4f0d-be48-4b2bac6fdd84",
        "colab": {
          "base_uri": "https://localhost:8080/",
          "height": 2057
        }
      },
      "cell_type": "code",
      "source": [
        "history = model.fit_generator(\n",
        "                    train_generator,\n",
        "                    steps_per_epoch=700 /10,\n",
        "                    epochs=50,\n",
        "                    validation_data=validation_generator,\n",
        "                    validation_steps=50,\n",
        "                    verbose=1,\n",
        "                    callbacks=[learning_rate_reduction])"
      ],
      "execution_count": 53,
      "outputs": [
        {
          "output_type": "stream",
          "text": [
            "Epoch 1/50\n",
            "70/70 [==============================] - 556s 8s/step - loss: 2.1034 - acc: 0.2600 - val_loss: 1.8340 - val_acc: 0.3540\n",
            "Epoch 2/50\n",
            "70/70 [==============================] - 510s 7s/step - loss: 1.2832 - acc: 0.5315 - val_loss: 1.3491 - val_acc: 0.4947\n",
            "Epoch 3/50\n",
            "70/70 [==============================] - 509s 7s/step - loss: 0.8465 - acc: 0.6934 - val_loss: 7.8685 - val_acc: 0.2187\n",
            "Epoch 4/50\n",
            "70/70 [==============================] - 509s 7s/step - loss: 0.6931 - acc: 0.7629 - val_loss: 8.1845 - val_acc: 0.1713\n",
            "Epoch 5/50\n",
            "70/70 [==============================] - 510s 7s/step - loss: 0.5490 - acc: 0.8157 - val_loss: 7.0372 - val_acc: 0.2273\n",
            "\n",
            "Epoch 00005: ReduceLROnPlateau reducing learning rate to 0.0005000000237487257.\n",
            "Epoch 6/50\n",
            "70/70 [==============================] - 510s 7s/step - loss: 0.4054 - acc: 0.8633 - val_loss: 0.5034 - val_acc: 0.8073\n",
            "Epoch 7/50\n",
            "70/70 [==============================] - 509s 7s/step - loss: 0.3523 - acc: 0.8809 - val_loss: 0.3511 - val_acc: 0.8733\n",
            "Epoch 8/50\n",
            "70/70 [==============================] - 508s 7s/step - loss: 0.2917 - acc: 0.9072 - val_loss: 0.3208 - val_acc: 0.8953\n",
            "Epoch 9/50\n",
            "70/70 [==============================] - 508s 7s/step - loss: 0.2640 - acc: 0.9124 - val_loss: 0.6081 - val_acc: 0.7973\n",
            "Epoch 10/50\n",
            "70/70 [==============================] - 507s 7s/step - loss: 0.2107 - acc: 0.9300 - val_loss: 1.0835 - val_acc: 0.7293\n",
            "Epoch 11/50\n",
            "70/70 [==============================] - 506s 7s/step - loss: 0.2471 - acc: 0.9171 - val_loss: 1.1362 - val_acc: 0.7027\n",
            "\n",
            "Epoch 00011: ReduceLROnPlateau reducing learning rate to 0.0002500000118743628.\n",
            "Epoch 12/50\n",
            "70/70 [==============================] - 507s 7s/step - loss: 0.1936 - acc: 0.9310 - val_loss: 0.1584 - val_acc: 0.9387\n",
            "Epoch 13/50\n",
            "70/70 [==============================] - 510s 7s/step - loss: 0.1742 - acc: 0.9443 - val_loss: 0.1330 - val_acc: 0.9527\n",
            "Epoch 14/50\n",
            "70/70 [==============================] - 510s 7s/step - loss: 0.1700 - acc: 0.9381 - val_loss: 1.0334 - val_acc: 0.7120\n",
            "Epoch 15/50\n",
            "70/70 [==============================] - 508s 7s/step - loss: 0.1512 - acc: 0.9424 - val_loss: 0.2789 - val_acc: 0.9013\n",
            "Epoch 16/50\n",
            "70/70 [==============================] - 510s 7s/step - loss: 0.1322 - acc: 0.9552 - val_loss: 0.1902 - val_acc: 0.9327\n",
            "\n",
            "Epoch 00016: ReduceLROnPlateau reducing learning rate to 0.0001250000059371814.\n",
            "Epoch 17/50\n",
            "70/70 [==============================] - 508s 7s/step - loss: 0.1085 - acc: 0.9619 - val_loss: 0.1217 - val_acc: 0.9600\n",
            "Epoch 18/50\n",
            "70/70 [==============================] - 512s 7s/step - loss: 0.0982 - acc: 0.9662 - val_loss: 0.0725 - val_acc: 0.9740\n",
            "Epoch 19/50\n",
            "70/70 [==============================] - 508s 7s/step - loss: 0.0968 - acc: 0.9686 - val_loss: 0.1578 - val_acc: 0.9487\n",
            "Epoch 20/50\n",
            "70/70 [==============================] - 508s 7s/step - loss: 0.1156 - acc: 0.9586 - val_loss: 0.2266 - val_acc: 0.9193\n",
            "Epoch 21/50\n",
            "70/70 [==============================] - 509s 7s/step - loss: 0.1037 - acc: 0.9624 - val_loss: 0.1850 - val_acc: 0.9413\n",
            "\n",
            "Epoch 00021: ReduceLROnPlateau reducing learning rate to 6.25000029685907e-05.\n",
            "Epoch 22/50\n",
            "70/70 [==============================] - 507s 7s/step - loss: 0.0965 - acc: 0.9629 - val_loss: 0.0805 - val_acc: 0.9693\n",
            "Epoch 23/50\n",
            "70/70 [==============================] - 509s 7s/step - loss: 0.0740 - acc: 0.9728 - val_loss: 0.0908 - val_acc: 0.9693\n",
            "Epoch 24/50\n",
            "70/70 [==============================] - 507s 7s/step - loss: 0.0755 - acc: 0.9781 - val_loss: 0.0637 - val_acc: 0.9787\n",
            "Epoch 25/50\n",
            "70/70 [==============================] - 509s 7s/step - loss: 0.0824 - acc: 0.9743 - val_loss: 0.0882 - val_acc: 0.9733\n",
            "Epoch 26/50\n",
            "70/70 [==============================] - 513s 7s/step - loss: 0.0669 - acc: 0.9800 - val_loss: 0.0654 - val_acc: 0.9780\n",
            "Epoch 27/50\n",
            "70/70 [==============================] - 510s 7s/step - loss: 0.0669 - acc: 0.9771 - val_loss: 0.0789 - val_acc: 0.9713\n",
            "\n",
            "Epoch 00027: ReduceLROnPlateau reducing learning rate to 3.125000148429535e-05.\n",
            "Epoch 28/50\n",
            "70/70 [==============================] - 507s 7s/step - loss: 0.0595 - acc: 0.9800 - val_loss: 0.0548 - val_acc: 0.9820\n",
            "Epoch 29/50\n",
            "70/70 [==============================] - 510s 7s/step - loss: 0.0611 - acc: 0.9809 - val_loss: 0.0676 - val_acc: 0.9773\n",
            "Epoch 30/50\n",
            "70/70 [==============================] - 516s 7s/step - loss: 0.0634 - acc: 0.9786 - val_loss: 0.0542 - val_acc: 0.9807\n",
            "Epoch 31/50\n",
            "70/70 [==============================] - 509s 7s/step - loss: 0.0600 - acc: 0.9791 - val_loss: 0.0717 - val_acc: 0.9707\n",
            "\n",
            "Epoch 00031: ReduceLROnPlateau reducing learning rate to 1.5625000742147677e-05.\n",
            "Epoch 32/50\n",
            "70/70 [==============================] - 509s 7s/step - loss: 0.0600 - acc: 0.9791 - val_loss: 0.0483 - val_acc: 0.9833\n",
            "Epoch 33/50\n",
            "70/70 [==============================] - 510s 7s/step - loss: 0.0572 - acc: 0.9838 - val_loss: 0.0477 - val_acc: 0.9847\n",
            "Epoch 34/50\n",
            "70/70 [==============================] - 510s 7s/step - loss: 0.0700 - acc: 0.9752 - val_loss: 0.0517 - val_acc: 0.9800\n",
            "Epoch 35/50\n",
            "70/70 [==============================] - 511s 7s/step - loss: 0.0669 - acc: 0.9800 - val_loss: 0.0546 - val_acc: 0.9807\n",
            "Epoch 36/50\n",
            "70/70 [==============================] - 509s 7s/step - loss: 0.0617 - acc: 0.9786 - val_loss: 0.0527 - val_acc: 0.9827\n",
            "\n",
            "Epoch 00036: ReduceLROnPlateau reducing learning rate to 7.812500371073838e-06.\n",
            "Epoch 37/50\n",
            "70/70 [==============================] - 510s 7s/step - loss: 0.0529 - acc: 0.9843 - val_loss: 0.0618 - val_acc: 0.9787\n",
            "Epoch 38/50\n",
            "70/70 [==============================] - 509s 7s/step - loss: 0.0627 - acc: 0.9800 - val_loss: 0.0560 - val_acc: 0.9793\n",
            "Epoch 39/50\n",
            "70/70 [==============================] - 513s 7s/step - loss: 0.0544 - acc: 0.9824 - val_loss: 0.0685 - val_acc: 0.9753\n",
            "\n",
            "Epoch 00039: ReduceLROnPlateau reducing learning rate to 3.906250185536919e-06.\n",
            "Epoch 40/50\n",
            "70/70 [==============================] - 507s 7s/step - loss: 0.0508 - acc: 0.9838 - val_loss: 0.0559 - val_acc: 0.9813\n",
            "Epoch 41/50\n",
            "70/70 [==============================] - 508s 7s/step - loss: 0.0492 - acc: 0.9838 - val_loss: 0.0501 - val_acc: 0.9820\n",
            "Epoch 42/50\n",
            "70/70 [==============================] - 513s 7s/step - loss: 0.0510 - acc: 0.9852 - val_loss: 0.0602 - val_acc: 0.9747\n",
            "\n",
            "Epoch 00042: ReduceLROnPlateau reducing learning rate to 1.9531250927684596e-06.\n",
            "Epoch 43/50\n",
            "70/70 [==============================] - 507s 7s/step - loss: 0.0512 - acc: 0.9838 - val_loss: 0.0618 - val_acc: 0.9793\n",
            "Epoch 44/50\n",
            "70/70 [==============================] - 509s 7s/step - loss: 0.0582 - acc: 0.9795 - val_loss: 0.0615 - val_acc: 0.9740\n",
            "Epoch 45/50\n",
            "70/70 [==============================] - 509s 7s/step - loss: 0.0546 - acc: 0.9786 - val_loss: 0.0542 - val_acc: 0.9827\n",
            "\n",
            "Epoch 00045: ReduceLROnPlateau reducing learning rate to 1e-06.\n",
            "Epoch 46/50\n",
            "70/70 [==============================] - 507s 7s/step - loss: 0.0474 - acc: 0.9833 - val_loss: 0.0486 - val_acc: 0.9827\n",
            "Epoch 47/50\n",
            "70/70 [==============================] - 508s 7s/step - loss: 0.0523 - acc: 0.9814 - val_loss: 0.0482 - val_acc: 0.9840\n",
            "Epoch 48/50\n",
            "70/70 [==============================] - 512s 7s/step - loss: 0.0555 - acc: 0.9838 - val_loss: 0.0503 - val_acc: 0.9827\n",
            "Epoch 49/50\n",
            "70/70 [==============================] - 511s 7s/step - loss: 0.0645 - acc: 0.9748 - val_loss: 0.0613 - val_acc: 0.9807\n",
            "Epoch 50/50\n",
            "70/70 [==============================] - 508s 7s/step - loss: 0.0515 - acc: 0.9852 - val_loss: 0.0570 - val_acc: 0.9793\n"
          ],
          "name": "stdout"
        }
      ]
    },
    {
      "metadata": {
        "id": "M2cBzPy0EM11",
        "colab_type": "code",
        "colab": {
          "base_uri": "https://localhost:8080/",
          "height": 265
        },
        "outputId": "f0deb737-d1ce-4d81-b694-9606f85ed757"
      },
      "cell_type": "code",
      "source": [
        "#Plot the loss and accuracy curves for training and validation \n",
        "fig, ax = plt.subplots(2,1)\n",
        "ax[0].plot(history.history['loss'], color='b', label=\"Training loss\")\n",
        "ax[0].plot(history.history['val_loss'], color='r', label=\"validation loss\",axes =ax[0])\n",
        "legend = ax[0].legend(loc='best', shadow=True)\n",
        "\n",
        "ax[1].plot(history.history['acc'], color='b', label=\"Training accuracy\")\n",
        "ax[1].plot(history.history['val_acc'], color='r',label=\"Validation accuracy\")\n",
        "legend = ax[1].legend(loc='best', shadow=True)"
      ],
      "execution_count": 54,
      "outputs": [
        {
          "output_type": "display_data",
          "data": {
            "image/png": "[encoded data removed]",
            "text/plain": [
              "<Figure size 432x288 with 2 Axes>"
            ]
          },
          "metadata": {
            "tags": []
          }
        }
      ]
    },
    {
      "metadata": {
        "id": "y3fxQDlLUs3J",
        "colab_type": "code",
        "colab": {
          "base_uri": "https://localhost:8080/",
          "height": 72
        },
        "outputId": "bab83523-46f6-4551-eb8c-04e30af56b9f"
      },
      "cell_type": "code",
      "source": [
        "#Unnecessary\n",
        "\n",
        "from keras.preprocessing import image\n",
        "\n",
        "test = image.load_img('plantRecognitionByLeaf-master/dataset/dataset_original/test_data/AATA/aata_ (5).jpg',\n",
        "                      target_size=(64, 64))\n",
        "test = image.img_to_array(test)\n",
        "test = np.expand_dims(test, axis=0)\n",
        "\n",
        "print(model.predict(test))\n",
        "print(train_generator.class_indices)"
      ],
      "execution_count": 57,
      "outputs": [
        {
          "output_type": "stream",
          "text": [
            "[[0. 0. 0. 0. 0. 0. 1. 0. 0. 0.]]\n",
            "{'AATA': 0, 'Bott brikha': 1, 'Kath badam': 2, 'Kathal': 3, 'Kull': 4, 'Lebu': 5, 'Mango': 6, 'Mehguni': 7, 'Noyon tara': 8, 'Ronggan': 9}\n"
          ],
          "name": "stdout"
        }
      ]
    },
    {
      "metadata": {
        "id": "Up_l3i19BFkd",
        "colab_type": "code",
        "colab": {}
      },
      "cell_type": "code",
      "source": [
        "ls"
      ],
      "execution_count": 0,
      "outputs": []
    }
  ]
}