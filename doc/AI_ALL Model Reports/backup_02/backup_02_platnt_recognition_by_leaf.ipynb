{
  "nbformat": 4,
  "nbformat_minor": 0,
  "metadata": {
    "colab": {
      "name": "backup_02_platnt_recognition_by_leaf.ipynb",
      "version": "0.3.2",
      "provenance": []
    },
    "kernelspec": {
      "name": "python3",
      "display_name": "Python 3"
    },
    "accelerator": "GPU"
  },
  "cells": [
    {
      "metadata": {
        "id": "IfmAQBLU4rls",
        "colab_type": "code",
        "colab": {}
      },
      "cell_type": "code",
      "source": [
        "#from tensorflow.python.client import device_lib\n",
        "#device_lib.list_local_devices()"
      ],
      "execution_count": 0,
      "outputs": []
    },
    {
      "metadata": {
        "id": "3ejx_qEqVlzx",
        "colab_type": "code",
        "colab": {}
      },
      "cell_type": "code",
      "source": [
        "#!wget https://github.com/mdtanvirhossain/plantRecognitionByLeaf/archive/master.zip"
      ],
      "execution_count": 0,
      "outputs": []
    },
    {
      "metadata": {
        "id": "szUyQ6xrWMD1",
        "colab_type": "code",
        "colab": {}
      },
      "cell_type": "code",
      "source": [
        "#!unzip master.zip"
      ],
      "execution_count": 0,
      "outputs": []
    },
    {
      "metadata": {
        "id": "xgXcyLuKAM8C",
        "colab_type": "code",
        "colab": {}
      },
      "cell_type": "code",
      "source": [
        "#ls"
      ],
      "execution_count": 0,
      "outputs": []
    },
    {
      "metadata": {
        "id": "Co7QQGIiA-j9",
        "colab_type": "code",
        "colab": {}
      },
      "cell_type": "code",
      "source": [
        "import os\n",
        "import matplotlib.pyplot as plt\n",
        "%matplotlib inline\n",
        "import numpy as np\n",
        "from sklearn.metrics import  confusion_matrix\n",
        "\n",
        "from __future__ import print_function\n",
        "\n",
        "import keras\n",
        "from keras import backend as K\n",
        "from IPython.display import SVG\n",
        "from keras.optimizers import Adam\n",
        "from keras.utils import plot_model\n",
        "from keras.models import Model, Sequential\n",
        "from keras.callbacks import ReduceLROnPlateau\n",
        "from keras.utils.vis_utils import model_to_dot\n",
        "from keras.utils.generic_utils import get_custom_objects\n",
        "from keras.preprocessing.image import ImageDataGenerator\n",
        "from keras.layers import Input, Conv2D, Dense, Flatten, MaxPool2D\n",
        "from keras.layers import Activation, Add, BatchNormalization, Dropout"
      ],
      "execution_count": 0,
      "outputs": []
    },
    {
      "metadata": {
        "id": "t7SR2A7cCKz1",
        "colab_type": "code",
        "outputId": "190ab751-a024-4d6d-a4a3-ba6322bed659",
        "colab": {
          "base_uri": "https://localhost:8080/",
          "height": 586
        }
      },
      "cell_type": "code",
      "source": [
        "model = Sequential()\n",
        " \n",
        "model.add(Conv2D(activation ='relu', input_shape = (64,64,3), filters=64, kernel_size=(3, 3), padding=\"SAME\", strides=(1, 1)))\n",
        " \n",
        "#model.add(Conv2D(activation ='relu',filters=32, kernel_size=(3, 3), padding=\"SAME\", strides=(1,1)))\n",
        "#model.add(MaxPool2D(pool_size=(2, 2), strides=(2, 2)))\n",
        " \n",
        "model.add(Conv2D(activation ='relu', filters=64, kernel_size=(3, 3), padding=\"SAME\", strides=(1, 1)))\n",
        "model.add(MaxPool2D(pool_size=(2, 2), strides=(2, 2)))\n",
        "\n",
        "model.add(Conv2D(activation ='relu',filters=128, kernel_size=(3, 3), padding=\"SAME\", strides=(1,1)))\n",
        "model.add(MaxPool2D(pool_size=(2, 2), strides=(2, 2)))\n",
        " \n",
        "# model.add(Dropout(0.25))\n",
        "\n",
        "model.add(BatchNormalization())\n",
        " \n",
        "model.add(Conv2D(activation ='relu',filters=256, kernel_size=(3, 3), padding=\"SAME\", strides=(1,1)))\n",
        "model.add(MaxPool2D(pool_size=(2, 2), strides=(2, 2)))\n",
        "\n",
        "#model.add(Conv2D(activation ='relu',filters=512, kernel_size=(3, 3), padding=\"SAME\", strides=(1,1)))\n",
        "#model.add(MaxPool2D(pool_size=(2, 2), strides=(2, 2)))\n",
        " \n",
        "\n",
        "model.add(Flatten())\n",
        "model.add(Dense(512, activation='relu'))\n",
        "model.add(Dropout(0.5))\n",
        "model.add(Dense(units = 10, activation='softmax'))\n",
        "\n",
        "#show model summary\n",
        "model.summary()"
      ],
      "execution_count": 19,
      "outputs": [
        {
          "output_type": "stream",
          "text": [
            "_________________________________________________________________\n",
            "Layer (type)                 Output Shape              Param #   \n",
            "=================================================================\n",
            "conv2d_5 (Conv2D)            (None, 64, 64, 64)        1792      \n",
            "_________________________________________________________________\n",
            "conv2d_6 (Conv2D)            (None, 64, 64, 64)        36928     \n",
            "_________________________________________________________________\n",
            "max_pooling2d_4 (MaxPooling2 (None, 32, 32, 64)        0         \n",
            "_________________________________________________________________\n",
            "conv2d_7 (Conv2D)            (None, 32, 32, 128)       73856     \n",
            "_________________________________________________________________\n",
            "max_pooling2d_5 (MaxPooling2 (None, 16, 16, 128)       0         \n",
            "_________________________________________________________________\n",
            "batch_normalization_2 (Batch (None, 16, 16, 128)       512       \n",
            "_________________________________________________________________\n",
            "conv2d_8 (Conv2D)            (None, 16, 16, 256)       295168    \n",
            "_________________________________________________________________\n",
            "max_pooling2d_6 (MaxPooling2 (None, 8, 8, 256)         0         \n",
            "_________________________________________________________________\n",
            "flatten_2 (Flatten)          (None, 16384)             0         \n",
            "_________________________________________________________________\n",
            "dense_3 (Dense)              (None, 512)               8389120   \n",
            "_________________________________________________________________\n",
            "dropout_2 (Dropout)          (None, 512)               0         \n",
            "_________________________________________________________________\n",
            "dense_4 (Dense)              (None, 10)                5130      \n",
            "=================================================================\n",
            "Total params: 8,802,506\n",
            "Trainable params: 8,802,250\n",
            "Non-trainable params: 256\n",
            "_________________________________________________________________\n"
          ],
          "name": "stdout"
        }
      ]
    },
    {
      "metadata": {
        "id": "E90xkL1uCXyL",
        "colab_type": "code",
        "colab": {}
      },
      "cell_type": "code",
      "source": [
        ""
      ],
      "execution_count": 0,
      "outputs": []
    },
    {
      "metadata": {
        "id": "GYAoSjHcCUC8",
        "colab_type": "code",
        "colab": {}
      },
      "cell_type": "code",
      "source": [
        "optimizer = Adam(lr=0.001)\n",
        "model.compile(loss='categorical_crossentropy', optimizer = optimizer, metrics=[\"accuracy\"])"
      ],
      "execution_count": 0,
      "outputs": []
    },
    {
      "metadata": {
        "id": "7CQMXiYOCaK7",
        "colab_type": "code",
        "colab": {}
      },
      "cell_type": "code",
      "source": [
        "train_datagen = ImageDataGenerator(\n",
        "                                    rotation_range=40,\n",
        "                                    width_shift_range=0.2,\n",
        "                                    height_shift_range=0.2,\n",
        "                                    rescale=1./255,\n",
        "                                    shear_range=0.2,\n",
        "                                    zoom_range=0.2,\n",
        "                                    horizontal_flip=True,\n",
        "                                    fill_mode='nearest')\n",
        "\n",
        "\n",
        "test_datagen = ImageDataGenerator(rotation_range=40,\n",
        "                                    width_shift_range=0.2,\n",
        "                                    height_shift_range=0.2,\n",
        "                                    rescale=1./255,\n",
        "                                    shear_range=0.2,\n",
        "                                    zoom_range=0.2,\n",
        "                                    horizontal_flip=True,\n",
        "                                    fill_mode='nearest')"
      ],
      "execution_count": 0,
      "outputs": []
    },
    {
      "metadata": {
        "id": "q3U4wG0GCeN6",
        "colab_type": "code",
        "outputId": "a69bd583-fce2-46ee-a491-372e63a1fe46",
        "colab": {
          "base_uri": "https://localhost:8080/",
          "height": 54
        }
      },
      "cell_type": "code",
      "source": [
        "train_generator = train_datagen.flow_from_directory(\n",
        "                                                    'plantRecognitionByLeaf-master/dataset/dataset_original/train_data',\n",
        "                                                    target_size=(64, 64),\n",
        "                                                    batch_size=30,\n",
        "                                                    color_mode='rgb',\n",
        "                                                    class_mode='categorical')\n",
        "\n",
        "validation_generator = test_datagen.flow_from_directory(\n",
        "                                                    'plantRecognitionByLeaf-master/dataset/dataset_original/test_data',\n",
        "                                                    target_size=(64, 64),\n",
        "                                                    batch_size=30,\n",
        "                                                    color_mode='rgb',\n",
        "                                                    class_mode='categorical')"
      ],
      "execution_count": 22,
      "outputs": [
        {
          "output_type": "stream",
          "text": [
            "Found 700 images belonging to 10 classes.\n",
            "Found 300 images belonging to 10 classes.\n"
          ],
          "name": "stdout"
        }
      ]
    },
    {
      "metadata": {
        "id": "ITZpjyRVCrnC",
        "colab_type": "code",
        "colab": {}
      },
      "cell_type": "code",
      "source": [
        "learning_rate_reduction = ReduceLROnPlateau(monitor='val_acc', \n",
        "                                            patience=3, \n",
        "                                            verbose=1, \n",
        "                                            factor=0.5, \n",
        "                                            min_lr=0.000001)\n"
      ],
      "execution_count": 0,
      "outputs": []
    },
    {
      "metadata": {
        "id": "v-ftpno7mv0F",
        "colab_type": "code",
        "colab": {}
      },
      "cell_type": "code",
      "source": [
        "#from PIL import ImageFile\n",
        "#ImageFile.LOAD_TRUNCATED_IMAGES = True"
      ],
      "execution_count": 0,
      "outputs": []
    },
    {
      "metadata": {
        "id": "or8i24x0DQhX",
        "colab_type": "code",
        "outputId": "46946ac3-0602-4060-d44f-8d524ecbf66b",
        "colab": {
          "base_uri": "https://localhost:8080/",
          "height": 2148
        }
      },
      "cell_type": "code",
      "source": [
        "history = model.fit_generator(\n",
        "                    train_generator,\n",
        "                    steps_per_epoch=700 /30,\n",
        "                    epochs=50,\n",
        "                    validation_data=validation_generator,\n",
        "                    validation_steps=50,\n",
        "                    verbose=1,\n",
        "                    callbacks=[learning_rate_reduction])"
      ],
      "execution_count": 25,
      "outputs": [
        {
          "output_type": "stream",
          "text": [
            "Epoch 1/50\n",
            "24/23 [==============================] - 358s 15s/step - loss: 3.4916 - acc: 0.1251 - val_loss: 6.9072 - val_acc: 0.1000\n",
            "Epoch 2/50\n",
            "24/23 [==============================] - 305s 13s/step - loss: 2.1595 - acc: 0.1654 - val_loss: 5.1636 - val_acc: 0.1607\n",
            "Epoch 3/50\n",
            "24/23 [==============================] - 304s 13s/step - loss: 1.9809 - acc: 0.2779 - val_loss: 8.2841 - val_acc: 0.1020\n",
            "Epoch 4/50\n",
            "24/23 [==============================] - 304s 13s/step - loss: 1.6397 - acc: 0.4222 - val_loss: 7.9986 - val_acc: 0.1507\n",
            "Epoch 5/50\n",
            "24/23 [==============================] - 306s 13s/step - loss: 1.4692 - acc: 0.4628 - val_loss: 5.1209 - val_acc: 0.1473\n",
            "\n",
            "Epoch 00005: ReduceLROnPlateau reducing learning rate to 0.0005000000237487257.\n",
            "Epoch 6/50\n",
            "24/23 [==============================] - 306s 13s/step - loss: 1.2536 - acc: 0.5261 - val_loss: 2.1047 - val_acc: 0.3187\n",
            "Epoch 7/50\n",
            "24/23 [==============================] - 306s 13s/step - loss: 1.0782 - acc: 0.6125 - val_loss: 1.0630 - val_acc: 0.6107\n",
            "Epoch 8/50\n",
            "24/23 [==============================] - 301s 13s/step - loss: 1.0657 - acc: 0.6098 - val_loss: 7.5988 - val_acc: 0.2187\n",
            "Epoch 9/50\n",
            "24/23 [==============================] - 303s 13s/step - loss: 0.9442 - acc: 0.6610 - val_loss: 1.6517 - val_acc: 0.4713\n",
            "Epoch 10/50\n",
            "24/23 [==============================] - 306s 13s/step - loss: 0.8868 - acc: 0.6791 - val_loss: 2.1542 - val_acc: 0.4173\n",
            "\n",
            "Epoch 00010: ReduceLROnPlateau reducing learning rate to 0.0002500000118743628.\n",
            "Epoch 11/50\n",
            "24/23 [==============================] - 306s 13s/step - loss: 0.7688 - acc: 0.7165 - val_loss: 1.1259 - val_acc: 0.6327\n",
            "Epoch 12/50\n",
            "24/23 [==============================] - 304s 13s/step - loss: 0.7294 - acc: 0.7445 - val_loss: 2.0907 - val_acc: 0.4320\n",
            "Epoch 13/50\n",
            "24/23 [==============================] - 305s 13s/step - loss: 0.7164 - acc: 0.7472 - val_loss: 0.5832 - val_acc: 0.7773\n",
            "Epoch 14/50\n",
            "24/23 [==============================] - 306s 13s/step - loss: 0.6210 - acc: 0.7986 - val_loss: 0.8466 - val_acc: 0.7160\n",
            "Epoch 15/50\n",
            "24/23 [==============================] - 304s 13s/step - loss: 0.5745 - acc: 0.7985 - val_loss: 0.8590 - val_acc: 0.7120\n",
            "Epoch 16/50\n",
            "24/23 [==============================] - 304s 13s/step - loss: 0.5260 - acc: 0.8183 - val_loss: 0.4447 - val_acc: 0.8467\n",
            "Epoch 17/50\n",
            "24/23 [==============================] - 305s 13s/step - loss: 0.5319 - acc: 0.8072 - val_loss: 0.8469 - val_acc: 0.6680\n",
            "Epoch 18/50\n",
            "24/23 [==============================] - 304s 13s/step - loss: 0.5177 - acc: 0.8043 - val_loss: 0.3343 - val_acc: 0.8940\n",
            "Epoch 19/50\n",
            "24/23 [==============================] - 304s 13s/step - loss: 0.4958 - acc: 0.8360 - val_loss: 1.0076 - val_acc: 0.6507\n",
            "Epoch 20/50\n",
            "24/23 [==============================] - 306s 13s/step - loss: 0.4312 - acc: 0.8472 - val_loss: 0.6123 - val_acc: 0.7720\n",
            "Epoch 21/50\n",
            "24/23 [==============================] - 304s 13s/step - loss: 0.3851 - acc: 0.8626 - val_loss: 0.3675 - val_acc: 0.8673\n",
            "\n",
            "Epoch 00021: ReduceLROnPlateau reducing learning rate to 0.0001250000059371814.\n",
            "Epoch 22/50\n",
            "24/23 [==============================] - 303s 13s/step - loss: 0.3737 - acc: 0.8530 - val_loss: 0.6351 - val_acc: 0.7600\n",
            "Epoch 23/50\n",
            "24/23 [==============================] - 307s 13s/step - loss: 0.3776 - acc: 0.8627 - val_loss: 0.5690 - val_acc: 0.7940\n",
            "Epoch 24/50\n",
            "24/23 [==============================] - 305s 13s/step - loss: 0.3578 - acc: 0.8791 - val_loss: 0.2800 - val_acc: 0.9060\n",
            "Epoch 25/50\n",
            "24/23 [==============================] - 303s 13s/step - loss: 0.3183 - acc: 0.8986 - val_loss: 0.2579 - val_acc: 0.9167\n",
            "Epoch 26/50\n",
            "24/23 [==============================] - 306s 13s/step - loss: 0.3290 - acc: 0.8876 - val_loss: 0.4287 - val_acc: 0.8473\n",
            "Epoch 27/50\n",
            "24/23 [==============================] - 305s 13s/step - loss: 0.3374 - acc: 0.8862 - val_loss: 0.2665 - val_acc: 0.9167\n",
            "Epoch 28/50\n",
            "24/23 [==============================] - 306s 13s/step - loss: 0.3425 - acc: 0.8961 - val_loss: 0.2822 - val_acc: 0.9107\n",
            "\n",
            "Epoch 00028: ReduceLROnPlateau reducing learning rate to 6.25000029685907e-05.\n",
            "Epoch 29/50\n",
            "24/23 [==============================] - 306s 13s/step - loss: 0.3024 - acc: 0.9029 - val_loss: 0.2537 - val_acc: 0.9180\n",
            "Epoch 30/50\n",
            "24/23 [==============================] - 305s 13s/step - loss: 0.2956 - acc: 0.9028 - val_loss: 0.2509 - val_acc: 0.9180\n",
            "Epoch 31/50\n",
            "24/23 [==============================] - 306s 13s/step - loss: 0.3110 - acc: 0.8791 - val_loss: 0.2204 - val_acc: 0.9253\n",
            "Epoch 32/50\n",
            "24/23 [==============================] - 303s 13s/step - loss: 0.2822 - acc: 0.9054 - val_loss: 0.2636 - val_acc: 0.9107\n",
            "Epoch 33/50\n",
            "24/23 [==============================] - 305s 13s/step - loss: 0.2474 - acc: 0.9181 - val_loss: 0.1941 - val_acc: 0.9327\n",
            "Epoch 34/50\n",
            "24/23 [==============================] - 306s 13s/step - loss: 0.2755 - acc: 0.9182 - val_loss: 0.2181 - val_acc: 0.9333\n",
            "Epoch 35/50\n",
            "24/23 [==============================] - 305s 13s/step - loss: 0.2952 - acc: 0.9042 - val_loss: 0.1832 - val_acc: 0.9467\n",
            "Epoch 36/50\n",
            "24/23 [==============================] - 305s 13s/step - loss: 0.2599 - acc: 0.9195 - val_loss: 0.2433 - val_acc: 0.9233\n",
            "Epoch 37/50\n",
            "24/23 [==============================] - 306s 13s/step - loss: 0.2754 - acc: 0.9152 - val_loss: 0.2155 - val_acc: 0.9207\n",
            "Epoch 38/50\n",
            "24/23 [==============================] - 305s 13s/step - loss: 0.2297 - acc: 0.9181 - val_loss: 0.1845 - val_acc: 0.9360\n",
            "\n",
            "Epoch 00038: ReduceLROnPlateau reducing learning rate to 3.125000148429535e-05.\n",
            "Epoch 39/50\n",
            "24/23 [==============================] - 306s 13s/step - loss: 0.2547 - acc: 0.9054 - val_loss: 0.1865 - val_acc: 0.9373\n",
            "Epoch 40/50\n",
            "24/23 [==============================] - 304s 13s/step - loss: 0.2466 - acc: 0.9140 - val_loss: 0.1895 - val_acc: 0.9380\n",
            "Epoch 41/50\n",
            "24/23 [==============================] - 306s 13s/step - loss: 0.2298 - acc: 0.9264 - val_loss: 0.1815 - val_acc: 0.9413\n",
            "\n",
            "Epoch 00041: ReduceLROnPlateau reducing learning rate to 1.5625000742147677e-05.\n",
            "Epoch 42/50\n",
            "24/23 [==============================] - 305s 13s/step - loss: 0.2378 - acc: 0.9221 - val_loss: 0.1690 - val_acc: 0.9507\n",
            "Epoch 43/50\n",
            "24/23 [==============================] - 306s 13s/step - loss: 0.2271 - acc: 0.9277 - val_loss: 0.1957 - val_acc: 0.9367\n",
            "Epoch 44/50\n",
            "24/23 [==============================] - 306s 13s/step - loss: 0.2246 - acc: 0.9292 - val_loss: 0.1832 - val_acc: 0.9367\n",
            "Epoch 45/50\n",
            "24/23 [==============================] - 304s 13s/step - loss: 0.2523 - acc: 0.9153 - val_loss: 0.1826 - val_acc: 0.9340\n",
            "\n",
            "Epoch 00045: ReduceLROnPlateau reducing learning rate to 7.812500371073838e-06.\n",
            "Epoch 46/50\n",
            "24/23 [==============================] - 307s 13s/step - loss: 0.2558 - acc: 0.9140 - val_loss: 0.1733 - val_acc: 0.9453\n",
            "Epoch 47/50\n",
            "24/23 [==============================] - 304s 13s/step - loss: 0.2502 - acc: 0.9086 - val_loss: 0.1568 - val_acc: 0.9480\n",
            "Epoch 48/50\n",
            "24/23 [==============================] - 306s 13s/step - loss: 0.2327 - acc: 0.9083 - val_loss: 0.1759 - val_acc: 0.9360\n",
            "\n",
            "Epoch 00048: ReduceLROnPlateau reducing learning rate to 3.906250185536919e-06.\n",
            "Epoch 49/50\n",
            "24/23 [==============================] - 306s 13s/step - loss: 0.2258 - acc: 0.9222 - val_loss: 0.1637 - val_acc: 0.9420\n",
            "Epoch 50/50\n",
            "24/23 [==============================] - 305s 13s/step - loss: 0.2055 - acc: 0.9362 - val_loss: 0.1693 - val_acc: 0.9480\n"
          ],
          "name": "stdout"
        }
      ]
    },
    {
      "metadata": {
        "id": "M2cBzPy0EM11",
        "colab_type": "code",
        "outputId": "f5551bca-e2a6-4df8-cd29-b6f0abf1896a",
        "colab": {
          "base_uri": "https://localhost:8080/",
          "height": 265
        }
      },
      "cell_type": "code",
      "source": [
        "# Plot the loss and accuracy curves for training and validation \n",
        "fig, ax = plt.subplots(2,1)\n",
        "ax[0].plot(history.history['loss'], color='b', label=\"Training loss\")\n",
        "ax[0].plot(history.history['val_loss'], color='r', label=\"validation loss\",axes =ax[0])\n",
        "legend = ax[0].legend(loc='best', shadow=True)\n",
        "\n",
        "ax[1].plot(history.history['acc'], color='b', label=\"Training accuracy\")\n",
        "ax[1].plot(history.history['val_acc'], color='r',label=\"Validation accuracy\")\n",
        "legend = ax[1].legend(loc='best', shadow=True)"
      ],
      "execution_count": 26,
      "outputs": [
        {
          "output_type": "display_data",
          "data": {
            "image/png": "[encoded data removed]",
            "text/plain": [
              "<Figure size 432x288 with 2 Axes>"
            ]
          },
          "metadata": {
            "tags": []
          }
        }
      ]
    },
    {
      "metadata": {
        "id": "y3fxQDlLUs3J",
        "colab_type": "code",
        "outputId": "1d1507da-b041-4a64-cdf6-78e03dcc40fd",
        "colab": {
          "base_uri": "https://localhost:8080/",
          "height": 54
        }
      },
      "cell_type": "code",
      "source": [
        "#Unnecessary\n",
        "\n",
        "from keras.preprocessing import image\n",
        "\n",
        "test = image.load_img('plantRecognitionByLeaf-master/dataset/dataset_original/test_data/AATA/aata_ (5).jpg',\n",
        "                      target_size=(64, 64))\n",
        "test = image.img_to_array(test)\n",
        "test = np.expand_dims(test, axis=0)\n",
        "\n",
        "print(model.predict(test))\n",
        "print(train_generator.class_indices)"
      ],
      "execution_count": 28,
      "outputs": [
        {
          "output_type": "stream",
          "text": [
            "[[0. 0. 0. 0. 0. 0. 1. 0. 0. 0.]]\n",
            "{'AATA': 0, 'Bott brikha': 1, 'Kath badam': 2, 'Kathal': 3, 'Kull': 4, 'Lebu': 5, 'Mango': 6, 'Mehguni': 7, 'Noyon tara': 8, 'Ronggan': 9}\n"
          ],
          "name": "stdout"
        }
      ]
    },
    {
      "metadata": {
        "id": "Up_l3i19BFkd",
        "colab_type": "code",
        "colab": {}
      },
      "cell_type": "code",
      "source": [
        "ls"
      ],
      "execution_count": 0,
      "outputs": []
    }
  ]
}