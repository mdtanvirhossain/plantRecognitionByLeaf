{
  "nbformat": 4,
  "nbformat_minor": 0,
  "metadata": {
    "colab": {
      "name": "backup_platnt_recognition_by_leaf.ipynb",
      "version": "0.3.2",
      "provenance": []
    },
    "kernelspec": {
      "name": "python3",
      "display_name": "Python 3"
    },
    "accelerator": "GPU"
  },
  "cells": [
    {
      "metadata": {
        "id": "IfmAQBLU4rls",
        "colab_type": "code",
        "colab": {}
      },
      "cell_type": "code",
      "source": [
        "#from tensorflow.python.client import device_lib\n",
        "#device_lib.list_local_devices()"
      ],
      "execution_count": 0,
      "outputs": []
    },
    {
      "metadata": {
        "id": "3ejx_qEqVlzx",
        "colab_type": "code",
        "colab": {}
      },
      "cell_type": "code",
      "source": [
        "#!wget https://github.com/mdtanvirhossain/plantRecognitionByLeaf/archive/master.zip"
      ],
      "execution_count": 0,
      "outputs": []
    },
    {
      "metadata": {
        "id": "szUyQ6xrWMD1",
        "colab_type": "code",
        "colab": {}
      },
      "cell_type": "code",
      "source": [
        "#!unzip master.zip"
      ],
      "execution_count": 0,
      "outputs": []
    },
    {
      "metadata": {
        "id": "xgXcyLuKAM8C",
        "colab_type": "code",
        "colab": {}
      },
      "cell_type": "code",
      "source": [
        "#ls"
      ],
      "execution_count": 0,
      "outputs": []
    },
    {
      "metadata": {
        "id": "Co7QQGIiA-j9",
        "colab_type": "code",
        "colab": {}
      },
      "cell_type": "code",
      "source": [
        "import os\n",
        "import matplotlib.pyplot as plt\n",
        "%matplotlib inline\n",
        "import numpy as np\n",
        "from sklearn.metrics import  confusion_matrix\n",
        "\n",
        "from __future__ import print_function\n",
        "\n",
        "import keras\n",
        "from keras import backend as K\n",
        "from IPython.display import SVG\n",
        "from keras.optimizers import Adam\n",
        "from keras.utils import plot_model\n",
        "from keras.models import Model, Sequential\n",
        "from keras.callbacks import ReduceLROnPlateau\n",
        "from keras.utils.vis_utils import model_to_dot\n",
        "from keras.utils.generic_utils import get_custom_objects\n",
        "from keras.preprocessing.image import ImageDataGenerator\n",
        "from keras.layers import Input, Conv2D, Dense, Flatten, MaxPool2D\n",
        "from keras.layers import Activation, Add, BatchNormalization, Dropout"
      ],
      "execution_count": 0,
      "outputs": []
    },
    {
      "metadata": {
        "id": "t7SR2A7cCKz1",
        "colab_type": "code",
        "colab": {
          "base_uri": "https://localhost:8080/",
          "height": 586
        },
        "outputId": "53ddb573-a10c-4d0c-a749-37cfe1068854"
      },
      "cell_type": "code",
      "source": [
        "model = Sequential()\n",
        " \n",
        "model.add(Conv2D(activation ='relu', input_shape = (64,64,3), filters=64, kernel_size=(3, 3), padding=\"SAME\", strides=(1, 1)))\n",
        " \n",
        "#model.add(Conv2D(activation ='relu',filters=32, kernel_size=(3, 3), padding=\"SAME\", strides=(1,1)))\n",
        "#model.add(MaxPool2D(pool_size=(2, 2), strides=(2, 2)))\n",
        " \n",
        "model.add(Conv2D(activation ='relu', filters=64, kernel_size=(3, 3), padding=\"SAME\", strides=(1, 1)))\n",
        "model.add(MaxPool2D(pool_size=(2, 2), strides=(2, 2)))\n",
        "\n",
        "model.add(Conv2D(activation ='relu',filters=128, kernel_size=(3, 3), padding=\"SAME\", strides=(1,1)))\n",
        "model.add(MaxPool2D(pool_size=(2, 2), strides=(2, 2)))\n",
        " \n",
        "# model.add(Dropout(0.25))\n",
        "\n",
        "model.add(BatchNormalization())\n",
        " \n",
        "model.add(Conv2D(activation ='relu',filters=256, kernel_size=(3, 3), padding=\"SAME\", strides=(1,1)))\n",
        "model.add(MaxPool2D(pool_size=(2, 2), strides=(2, 2)))\n",
        "\n",
        "#model.add(Conv2D(activation ='relu',filters=512, kernel_size=(3, 3), padding=\"SAME\", strides=(1,1)))\n",
        "#model.add(MaxPool2D(pool_size=(2, 2), strides=(2, 2)))\n",
        " \n",
        "\n",
        "model.add(Flatten())\n",
        "model.add(Dense(512, activation='relu'))\n",
        "model.add(Dropout(0.5))\n",
        "model.add(Dense(units = 10, activation='softmax'))\n",
        "\n",
        "#show model summary\n",
        "model.summary()"
      ],
      "execution_count": 47,
      "outputs": [
        {
          "output_type": "stream",
          "text": [
            "_________________________________________________________________\n",
            "Layer (type)                 Output Shape              Param #   \n",
            "=================================================================\n",
            "conv2d_29 (Conv2D)           (None, 64, 64, 64)        1792      \n",
            "_________________________________________________________________\n",
            "conv2d_30 (Conv2D)           (None, 64, 64, 64)        36928     \n",
            "_________________________________________________________________\n",
            "max_pooling2d_23 (MaxPooling (None, 32, 32, 64)        0         \n",
            "_________________________________________________________________\n",
            "conv2d_31 (Conv2D)           (None, 32, 32, 128)       73856     \n",
            "_________________________________________________________________\n",
            "max_pooling2d_24 (MaxPooling (None, 16, 16, 128)       0         \n",
            "_________________________________________________________________\n",
            "batch_normalization_7 (Batch (None, 16, 16, 128)       512       \n",
            "_________________________________________________________________\n",
            "conv2d_32 (Conv2D)           (None, 16, 16, 256)       295168    \n",
            "_________________________________________________________________\n",
            "max_pooling2d_25 (MaxPooling (None, 8, 8, 256)         0         \n",
            "_________________________________________________________________\n",
            "flatten_7 (Flatten)          (None, 16384)             0         \n",
            "_________________________________________________________________\n",
            "dense_13 (Dense)             (None, 512)               8389120   \n",
            "_________________________________________________________________\n",
            "dropout_7 (Dropout)          (None, 512)               0         \n",
            "_________________________________________________________________\n",
            "dense_14 (Dense)             (None, 10)                5130      \n",
            "=================================================================\n",
            "Total params: 8,802,506\n",
            "Trainable params: 8,802,250\n",
            "Non-trainable params: 256\n",
            "_________________________________________________________________\n"
          ],
          "name": "stdout"
        }
      ]
    },
    {
      "metadata": {
        "id": "E90xkL1uCXyL",
        "colab_type": "code",
        "colab": {}
      },
      "cell_type": "code",
      "source": [
        ""
      ],
      "execution_count": 0,
      "outputs": []
    },
    {
      "metadata": {
        "id": "GYAoSjHcCUC8",
        "colab_type": "code",
        "colab": {}
      },
      "cell_type": "code",
      "source": [
        "optimizer = Adam(lr=0.001)\n",
        "model.compile(loss='categorical_crossentropy', optimizer = optimizer, metrics=[\"accuracy\"])"
      ],
      "execution_count": 0,
      "outputs": []
    },
    {
      "metadata": {
        "id": "7CQMXiYOCaK7",
        "colab_type": "code",
        "colab": {}
      },
      "cell_type": "code",
      "source": [
        "train_datagen = ImageDataGenerator(\n",
        "                                    rotation_range=40,\n",
        "                                    width_shift_range=0.2,\n",
        "                                    height_shift_range=0.2,\n",
        "                                    rescale=1./255,\n",
        "                                    shear_range=0.2,\n",
        "                                    zoom_range=0.2,\n",
        "                                    horizontal_flip=True,\n",
        "                                    fill_mode='nearest')\n",
        "\n",
        "\n",
        "test_datagen = ImageDataGenerator(rotation_range=40,\n",
        "                                    width_shift_range=0.2,\n",
        "                                    height_shift_range=0.2,\n",
        "                                    rescale=1./255,\n",
        "                                    shear_range=0.2,\n",
        "                                    zoom_range=0.2,\n",
        "                                    horizontal_flip=True,\n",
        "                                    fill_mode='nearest')"
      ],
      "execution_count": 0,
      "outputs": []
    },
    {
      "metadata": {
        "id": "q3U4wG0GCeN6",
        "colab_type": "code",
        "outputId": "d13d51be-141c-4ab6-db1c-c5dd4101ac84",
        "colab": {
          "base_uri": "https://localhost:8080/",
          "height": 54
        }
      },
      "cell_type": "code",
      "source": [
        "train_generator = train_datagen.flow_from_directory(\n",
        "                                                    'plantRecognitionByLeaf-master/dataset/dataset_original/train_data',\n",
        "                                                    target_size=(64, 64),\n",
        "                                                    batch_size=30,\n",
        "                                                    color_mode='rgb',\n",
        "                                                    class_mode='categorical')\n",
        "\n",
        "validation_generator = test_datagen.flow_from_directory(\n",
        "                                                    'plantRecognitionByLeaf-master/dataset/dataset_original/test_data',\n",
        "                                                    target_size=(64, 64),\n",
        "                                                    batch_size=30,\n",
        "                                                    color_mode='rgb',\n",
        "                                                    class_mode='categorical')"
      ],
      "execution_count": 50,
      "outputs": [
        {
          "output_type": "stream",
          "text": [
            "Found 700 images belonging to 10 classes.\n",
            "Found 300 images belonging to 10 classes.\n"
          ],
          "name": "stdout"
        }
      ]
    },
    {
      "metadata": {
        "id": "ITZpjyRVCrnC",
        "colab_type": "code",
        "colab": {}
      },
      "cell_type": "code",
      "source": [
        "learning_rate_reduction = ReduceLROnPlateau(monitor='val_acc', \n",
        "                                            patience=3, \n",
        "                                            verbose=1, \n",
        "                                            factor=0.5, \n",
        "                                            min_lr=0.000001)\n"
      ],
      "execution_count": 0,
      "outputs": []
    },
    {
      "metadata": {
        "id": "v-ftpno7mv0F",
        "colab_type": "code",
        "colab": {}
      },
      "cell_type": "code",
      "source": [
        "#from PIL import ImageFile\n",
        "#ImageFile.LOAD_TRUNCATED_IMAGES = True"
      ],
      "execution_count": 0,
      "outputs": []
    },
    {
      "metadata": {
        "id": "or8i24x0DQhX",
        "colab_type": "code",
        "outputId": "38ae5f96-fc14-49e7-cf32-177f4e8d08d6",
        "colab": {
          "base_uri": "https://localhost:8080/",
          "height": 825
        }
      },
      "cell_type": "code",
      "source": [
        "history = model.fit_generator(\n",
        "                    train_generator,\n",
        "                    steps_per_epoch=1063 /30,\n",
        "                    epochs=20,\n",
        "                    validation_data=validation_generator,\n",
        "                    validation_steps=50,\n",
        "                    verbose=1,\n",
        "                    callbacks=[learning_rate_reduction])"
      ],
      "execution_count": 53,
      "outputs": [
        {
          "output_type": "stream",
          "text": [
            "Epoch 1/20\n",
            "36/35 [==============================] - 399s 11s/step - loss: 3.2866 - acc: 0.0880 - val_loss: 2.9172 - val_acc: 0.1000\n",
            "Epoch 2/20\n",
            "36/35 [==============================] - 348s 10s/step - loss: 2.2886 - acc: 0.1130 - val_loss: 2.2967 - val_acc: 0.1000\n",
            "Epoch 3/20\n",
            "36/35 [==============================] - 351s 10s/step - loss: 2.1958 - acc: 0.1768 - val_loss: 3.0953 - val_acc: 0.1280\n",
            "Epoch 4/20\n",
            "36/35 [==============================] - 348s 10s/step - loss: 1.6446 - acc: 0.4174 - val_loss: 4.0503 - val_acc: 0.1520\n",
            "Epoch 5/20\n",
            "36/35 [==============================] - 352s 10s/step - loss: 1.2751 - acc: 0.5482 - val_loss: 7.1639 - val_acc: 0.1480\n",
            "Epoch 6/20\n",
            "36/35 [==============================] - 346s 10s/step - loss: 1.1377 - acc: 0.6048 - val_loss: 3.5391 - val_acc: 0.3333\n",
            "Epoch 7/20\n",
            "36/35 [==============================] - 349s 10s/step - loss: 0.8461 - acc: 0.6954 - val_loss: 8.0752 - val_acc: 0.2020\n",
            "Epoch 8/20\n",
            "36/35 [==============================] - 348s 10s/step - loss: 0.8435 - acc: 0.7177 - val_loss: 5.2763 - val_acc: 0.2293\n",
            "Epoch 9/20\n",
            "36/35 [==============================] - 349s 10s/step - loss: 0.6912 - acc: 0.7574 - val_loss: 2.2100 - val_acc: 0.4660\n",
            "Epoch 10/20\n",
            "36/35 [==============================] - 349s 10s/step - loss: 0.6088 - acc: 0.7992 - val_loss: 0.3295 - val_acc: 0.8973\n",
            "Epoch 11/20\n",
            "36/35 [==============================] - 350s 10s/step - loss: 0.5249 - acc: 0.8240 - val_loss: 1.1593 - val_acc: 0.7000\n",
            "Epoch 12/20\n",
            "36/35 [==============================] - 349s 10s/step - loss: 0.5098 - acc: 0.8193 - val_loss: 0.8057 - val_acc: 0.7733\n",
            "Epoch 13/20\n",
            "36/35 [==============================] - 351s 10s/step - loss: 0.5128 - acc: 0.8231 - val_loss: 0.7604 - val_acc: 0.7780\n",
            "\n",
            "Epoch 00013: ReduceLROnPlateau reducing learning rate to 0.0005000000237487257.\n",
            "Epoch 14/20\n",
            "36/35 [==============================] - 348s 10s/step - loss: 0.4015 - acc: 0.8666 - val_loss: 0.4044 - val_acc: 0.8560\n",
            "Epoch 15/20\n",
            "36/35 [==============================] - 348s 10s/step - loss: 0.3077 - acc: 0.9009 - val_loss: 0.4965 - val_acc: 0.8287\n",
            "Epoch 16/20\n",
            "36/35 [==============================] - 348s 10s/step - loss: 0.2843 - acc: 0.9038 - val_loss: 0.5001 - val_acc: 0.8680\n",
            "\n",
            "Epoch 00016: ReduceLROnPlateau reducing learning rate to 0.0002500000118743628.\n",
            "Epoch 17/20\n",
            "36/35 [==============================] - 352s 10s/step - loss: 0.2424 - acc: 0.9186 - val_loss: 0.1845 - val_acc: 0.9320\n",
            "Epoch 18/20\n",
            "36/35 [==============================] - 348s 10s/step - loss: 0.2079 - acc: 0.9334 - val_loss: 0.2331 - val_acc: 0.9340\n",
            "Epoch 19/20\n",
            "36/35 [==============================] - 349s 10s/step - loss: 0.1954 - acc: 0.9305 - val_loss: 0.2274 - val_acc: 0.9447\n",
            "Epoch 20/20\n",
            "36/35 [==============================] - 349s 10s/step - loss: 0.2089 - acc: 0.9306 - val_loss: 0.1746 - val_acc: 0.9387\n"
          ],
          "name": "stdout"
        }
      ]
    },
    {
      "metadata": {
        "id": "M2cBzPy0EM11",
        "colab_type": "code",
        "outputId": "6ab6316b-7f84-4c57-f02d-55333a1136f3",
        "colab": {
          "base_uri": "https://localhost:8080/",
          "height": 265
        }
      },
      "cell_type": "code",
      "source": [
        "# Plot the loss and accuracy curves for training and validation \n",
        "fig, ax = plt.subplots(2,1)\n",
        "ax[0].plot(history.history['loss'], color='b', label=\"Training loss\")\n",
        "ax[0].plot(history.history['val_loss'], color='r', label=\"validation loss\",axes =ax[0])\n",
        "legend = ax[0].legend(loc='best', shadow=True)\n",
        "\n",
        "ax[1].plot(history.history['acc'], color='b', label=\"Training accuracy\")\n",
        "ax[1].plot(history.history['val_acc'], color='r',label=\"Validation accuracy\")\n",
        "legend = ax[1].legend(loc='best', shadow=True)"
      ],
      "execution_count": 54,
      "outputs": [
        {
          "output_type": "display_data",
          "data": {
            "image/png": "[encoded data removed]",
            "text/plain": [
              "<Figure size 432x288 with 2 Axes>"
            ]
          },
          "metadata": {
            "tags": []
          }
        }
      ]
    },
    {
      "metadata": {
        "id": "y3fxQDlLUs3J",
        "colab_type": "code",
        "outputId": "ba9dc78d-e69b-42e7-f1b9-7a15a6ea9da4",
        "colab": {
          "base_uri": "https://localhost:8080/",
          "height": 135
        }
      },
      "cell_type": "code",
      "source": [
        "#Unnecessary\n",
        "\n",
        "#from keras.preprocessing import image\n",
        "\n",
        "#test = image.load_img('plantRecognitionByLeaf-master/dataset/dataset_original/test_data/AATA/aata_ (5).jpg',\n",
        "                      target_size=(32, 32))\n",
        "#test = image.img_to_array(test)\n",
        "#test = np.expand_dims(test, axis=0)\n",
        "\n",
        "#print(model.predict(test))\n",
        "#print(train_generator.class_indices)"
      ],
      "execution_count": 55,
      "outputs": [
        {
          "output_type": "error",
          "ename": "SyntaxError",
          "evalue": "ignored",
          "traceback": [
            "\u001b[0;36m  File \u001b[0;32m\"<ipython-input-55-74b04ce5da4c>\"\u001b[0;36m, line \u001b[0;32m1\u001b[0m\n\u001b[0;31m    target_size=(32, 32))\u001b[0m\n\u001b[0m                        ^\u001b[0m\n\u001b[0;31mSyntaxError\u001b[0m\u001b[0;31m:\u001b[0m invalid syntax\n"
          ]
        }
      ]
    },
    {
      "metadata": {
        "id": "Up_l3i19BFkd",
        "colab_type": "code",
        "colab": {}
      },
      "cell_type": "code",
      "source": [
        "ls"
      ],
      "execution_count": 0,
      "outputs": []
    }
  ]
}